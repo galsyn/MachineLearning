{
  "nbformat": 4,
  "nbformat_minor": 0,
  "metadata": {
    "colab": {
      "provenance": []
    },
    "kernelspec": {
      "name": "python3",
      "display_name": "Python 3"
    },
    "language_info": {
      "name": "python"
    }
  },
  "cells": [
    {
      "cell_type": "code",
      "execution_count": null,
      "metadata": {
        "id": "2Tn4PJm2b2EW"
      },
      "outputs": [],
      "source": [
        "import numpy as np\n",
        "import pandas\n",
        "import matplotlib.pyplot as plt"
      ]
    },
    {
      "cell_type": "markdown",
      "source": [
        "# Part 1. NumPy\n",
        "\n",
        "Let's try some basics of numpy.\n",
        "\n",
        "Sometimes there're a few ways to solve each task. But some solutions could be more optimal than other ones.\n",
        "\n",
        "Use Google & numpy documentation.\n",
        "\n",
        "**!!! Everything is an array !!!**\n"
      ],
      "metadata": {
        "id": "rXypOLKbcnVG"
      }
    },
    {
      "cell_type": "code",
      "source": [
        " # Create a null vector of size 10\n",
        " # Hint: np.zeros()"
      ],
      "metadata": {
        "id": "FLFx7FQqctAm"
      },
      "execution_count": null,
      "outputs": []
    },
    {
      "cell_type": "code",
      "source": [
        "# Create a vector with values ranging from 299 to 369\n",
        "# Hint: np.arange()"
      ],
      "metadata": {
        "id": "sJjq4AjneAL0"
      },
      "execution_count": null,
      "outputs": []
    },
    {
      "cell_type": "code",
      "source": [
        " # Make the 5th element of the existing vector to be 1\n",
        " # Hint: np.array works quite similar to python list.\n",
        " #       Remember how to extract element of list by the index of its element."
      ],
      "metadata": {
        "id": "WRWpbTtKdGUP"
      },
      "execution_count": null,
      "outputs": []
    },
    {
      "cell_type": "code",
      "source": [
        "# Reverse the existing vector (the 1st element becomes the last one)\n",
        "# Hint: np.array works quite similar to python list.\n",
        "#       Remember how to reverse a list."
      ],
      "metadata": {
        "id": "2BxdLqdOd8OH"
      },
      "execution_count": null,
      "outputs": []
    },
    {
      "cell_type": "code",
      "source": [
        "# Create a 3x3 matrix with values ranging from 0 to 8\n",
        "# Hint: np.reshape()"
      ],
      "metadata": {
        "id": "QCYeVIlaeSsR"
      },
      "execution_count": null,
      "outputs": []
    },
    {
      "cell_type": "code",
      "source": [
        "# Create a 3x3 matrix with a random float values\n",
        "# Hint: np.random.rand()"
      ],
      "metadata": {
        "id": "qvj2K2UzenJR"
      },
      "execution_count": null,
      "outputs": []
    },
    {
      "cell_type": "code",
      "source": [
        "# Create a 3x3 matrix with a random int values\n",
        "# Hint: np.random.randint()"
      ],
      "metadata": {
        "id": "RTzEn6ddjdft"
      },
      "execution_count": null,
      "outputs": []
    },
    {
      "cell_type": "code",
      "source": [
        "# Find min, max and mean values of the existing matrix"
      ],
      "metadata": {
        "id": "vesLISErgrl4"
      },
      "execution_count": null,
      "outputs": []
    },
    {
      "cell_type": "code",
      "source": [
        "# Reshape the existing matrix into a vector\n",
        "# Hint: np.reshape(), np.size()"
      ],
      "metadata": {
        "id": "WzNYWQhkgwKN"
      },
      "execution_count": null,
      "outputs": []
    },
    {
      "cell_type": "code",
      "source": [
        "# Add a border filled with 0's around the existing array\n",
        "# Hint: np.pad()"
      ],
      "metadata": {
        "id": "X_Ar_SPFhELz"
      },
      "execution_count": null,
      "outputs": []
    },
    {
      "cell_type": "code",
      "source": [
        "# Create 5x3 matrix and 3x2 matrix with a random int values, calculate dot-product of the created matrices\n",
        "# Hint: np.dot()"
      ],
      "metadata": {
        "id": "23FhKM8jhEkB"
      },
      "execution_count": null,
      "outputs": []
    },
    {
      "cell_type": "code",
      "source": [
        "# Create a vector with a random float values, negate all elements which are between 3 and 8 (substitute original values with -1 * original value), in place.\n",
        "# Hint: a[(condition 1) & (condition 2)]"
      ],
      "metadata": {
        "id": "YagC-PJdjSS3"
      },
      "execution_count": null,
      "outputs": []
    },
    {
      "cell_type": "code",
      "source": [
        "# Create 2 vectors of the same chape, stack them vertically\n",
        "# Hint: np.concatenate(), np.vstack()"
      ],
      "metadata": {
        "id": "_4bcQFuooFmh"
      },
      "execution_count": null,
      "outputs": []
    },
    {
      "cell_type": "code",
      "source": [
        "# Take the existing vestors, stack them horizontally\n",
        "# Hint: np.concatenate(), np.hstack()"
      ],
      "metadata": {
        "id": "4edkYF8Moa-h"
      },
      "execution_count": null,
      "outputs": []
    },
    {
      "cell_type": "code",
      "source": [
        "# Flatten the resulted array\n",
        "# Hint: np.flatten(), np.ravel(), np.reshape()"
      ],
      "metadata": {
        "id": "6qrLrTdbsWZ0"
      },
      "execution_count": null,
      "outputs": []
    },
    {
      "cell_type": "code",
      "source": [
        "# Replace the maximum value by 0 in the existing vector\n",
        "# Hint: np.argmax()"
      ],
      "metadata": {
        "id": "kmRPpdqrlQd1"
      },
      "execution_count": null,
      "outputs": []
    },
    {
      "cell_type": "code",
      "source": [
        "# Create 2 random arrays A and B of the same shape, check if the created arrays are equal.\n",
        "# Hint: np.allclose(), np.array_equal()"
      ],
      "metadata": {
        "id": "KCXL_KV5hlAx"
      },
      "execution_count": null,
      "outputs": []
    },
    {
      "cell_type": "code",
      "source": [
        "# Create 2D array or take any existinng 2D array, swap any 2 rows of this 2D array.\n",
        "# Hint: array[[]] = array[[]]"
      ],
      "metadata": {
        "id": "x1BhdEGahlik"
      },
      "execution_count": null,
      "outputs": []
    },
    {
      "cell_type": "markdown",
      "source": [
        "# Part 2. Coding warm-up with Numpy and Matplotlib\n",
        "\n",
        "**1. Create python function that calculates angle between 2 vectors in degrees** (*use numpy functions to implement the function*).\n",
        "\n",
        "Remember formula of dot-product of 2 vectors:\n",
        "\n",
        "## $ \\vec{a}·\\vec{b} = |\\vec{a}| * |\\vec{b}| * \\cos\\theta$\n",
        "\n",
        "## $ \\cos\\theta = \\frac{\\vec{a}·\\vec{b}}{|\\vec{a}| * |\\vec{b}|} $\n",
        "\n",
        "**2. Use your function to calculate angles between the next pairs of vectors:**\n",
        "```\n",
        "    1) a & b\n",
        "\n",
        "    2) c & d\n",
        "\n",
        "    3) f & g\n",
        "```\n",
        "\n",
        "**3. Visualize vectors in 2D space.**\n",
        "\n",
        "To visualize vectors in 2D space remove the 3rd coordinate from each vector. Use `plt.quiver` to plot vectors the resulted 2D vectors. Use [0, 0] as an origin point for all vectors.\n",
        "\n",
        "*Hint:*\n",
        "\n",
        "```\n",
        "origin_x = [0 for i in range(n of vectors)] # x origin coords\n",
        "origin_y = [0 for i in range(n of vectors)] # y origin coords\n",
        "\n",
        "plt.quiver(origin_x, origin_y, x_coords, y_coords, color = ['r', 'b', 'g', 'c', 'm', 'y'], scale = 10)\n",
        "```\n",
        "\n"
      ],
      "metadata": {
        "id": "P4E8eTdC44jd"
      }
    },
    {
      "cell_type": "code",
      "source": [
        "# Vectors\n",
        "\n",
        "a = [1, 0, 0]\n",
        "b = [0, 1, 0]\n",
        "\n",
        "c = [1, 2, 3]\n",
        "d = [3, 2, 1]\n",
        "\n",
        "f = [1, 0.36, 0]\n",
        "g = [-1, 0, 0]"
      ],
      "metadata": {
        "id": "JCKw9YqX0kjL"
      },
      "execution_count": null,
      "outputs": []
    },
    {
      "cell_type": "markdown",
      "source": [
        "# Part 3. Pandas and Matplotlib\n",
        "\n",
        "Upload `homework2_data.csv` file as:\n",
        "\n",
        "```\n",
        "df = pd.read_csv(`homework2_data.csv`)\n",
        "```\n",
        "\n",
        "This csv file has columns ['delta_frame_time', 'dns_answers_ttl', 'is_cc_provider', 'is_ip_private', 'delay'].\n",
        "\n",
        "**!!! Each column is a certain feature !!!**\n",
        "\n",
        "You can extract each column as an array:\n",
        "```\n",
        "col = df['name_of_col'].values\n",
        "```\n",
        "Take a look at data in each column.\n",
        "\n",
        "### *What type of data each column contains (ordinal, nominal, discerete or continuous)?*\n",
        "\n",
        "Use `plt.hist()` to plot a histogram for each feature.\n",
        "\n",
        "### *What is the distribution of each feature?*\n",
        "\n",
        "Use `np.mean()` and `np.median()` to find mean and median values of each feature.\n",
        "\n",
        "Use `plt.axvline()` to plot mean and median of each feature.\n",
        "\n",
        "Histogram, mean and median must be plotted in the same plot."
      ],
      "metadata": {
        "id": "HYIORPqqKWeB"
      }
    },
    {
      "cell_type": "code",
      "source": [
        "# Example\n",
        "\n",
        "fig, ax = plt.subplots(1, 1, figsize = [10, 5])\n",
        "\n",
        "sample = np.random.randint(0, 100, 500)\n",
        "\n",
        "plt.hist(sample, bins = 10, rwidth = 0.95, align = 'left')\n",
        "plt.axvline(sample.mean(), color = 'red')\n",
        "\n",
        "plt.title('Some random sample')\n",
        "\n",
        "plt.show()"
      ],
      "metadata": {
        "colab": {
          "base_uri": "https://localhost:8080/",
          "height": 468
        },
        "id": "8-aoR7YzKZfL",
        "outputId": "33679e9d-f80e-400c-fe40-2c23f763466c"
      },
      "execution_count": null,
      "outputs": [
        {
          "output_type": "display_data",
          "data": {
            "text/plain": [
              "<Figure size 1000x500 with 1 Axes>"
            ],
            "image/png": "[encoded data removed]"
          },
          "metadata": {}
        }
      ]
    }
  ]
}